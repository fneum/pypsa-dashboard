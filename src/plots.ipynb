{
 "cells": [
  {
   "cell_type": "code",
   "execution_count": null,
   "metadata": {},
   "outputs": [],
   "source": [
    "import pypsa\n",
    "import atlite\n",
    "\n",
    "import pandas as pd\n",
    "import numpy as np\n",
    "import geopandas as gpd\n",
    "import xarray as xr\n",
    "import networkx as nx\n",
    "\n",
    "import panel as pn\n",
    "import panel.widgets as pnw\n",
    "import holoviews as hv\n",
    "\n",
    "import cartopy.crs as ccrs\n",
    "\n",
    "import hvplot.pandas\n",
    "import hvplot.xarray\n",
    "import hvplot.networkx as hvnx"
   ]
  },
  {
   "cell_type": "code",
   "execution_count": null,
   "metadata": {},
   "outputs": [],
   "source": [
    "from bokeh.models.formatters import DatetimeTickFormatter\n",
    "pn.extension()"
   ]
  },
  {
   "cell_type": "code",
   "execution_count": null,
   "metadata": {},
   "outputs": [],
   "source": [
    "path = \"../../pr/\""
   ]
  },
  {
   "cell_type": "code",
   "execution_count": null,
   "metadata": {},
   "outputs": [],
   "source": [
    "import yaml\n",
    "with open(path + \"pypsa-eur-sec/config.yaml\") as file:\n",
    "    config = yaml.safe_load(file)\n",
    "\n",
    "colors = config[\"plotting\"][\"tech_colors\"]"
   ]
  },
  {
   "cell_type": "markdown",
   "metadata": {},
   "source": [
    "## Solved Network"
   ]
  },
  {
   "cell_type": "code",
   "execution_count": null,
   "metadata": {},
   "outputs": [],
   "source": [
    "n = pypsa.Network(\n",
    "    path + \"pypsa-eur-sec/results/your-run-name-overnight-dev/postnetworks/elec_s_60_lv1.25__Co2L0p0-365H-T-H-B-I-solar+p3-dist1_2030.nc\"\n",
    ")"
   ]
  },
  {
   "cell_type": "markdown",
   "metadata": {},
   "source": [
    "## Geometry Polygon Data"
   ]
  },
  {
   "cell_type": "code",
   "execution_count": null,
   "metadata": {},
   "outputs": [],
   "source": [
    "# shapes\n",
    "nodes = gpd.read_file(path + \"pypsa-eur/resources/regions_onshore_elec_s_60.geojson\").set_index('name')\n",
    "cts = gpd.read_file(path + \"pypsa-eur/resources/country_shapes.geojson\").set_index('name')"
   ]
  },
  {
   "cell_type": "code",
   "execution_count": null,
   "metadata": {},
   "outputs": [],
   "source": [
    "regions = gpd.read_file(path + \"pypsa-eur/resources/regions_onshore.geojson\").append(\n",
    "          gpd.read_file(path + \"pypsa-eur/resources/regions_offshore.geojson\"))\n",
    "regions = regions.dissolve('name') \n",
    "onregions = gpd.read_file(path + \"pypsa-eur/resources/regions_onshore.geojson\").set_index('name')\n",
    "regions[\"Area\"] = regions.to_crs(epsg=3035).area.div(1e6)\n",
    "onregions[\"Area\"] = onregions.to_crs(epsg=3035).area.div(1e6)"
   ]
  },
  {
   "cell_type": "markdown",
   "metadata": {},
   "source": [
    "## Model Inputs"
   ]
  },
  {
   "cell_type": "code",
   "execution_count": null,
   "metadata": {},
   "outputs": [],
   "source": [
    "# country-level data\n",
    "co2 = pd.read_csv(path + \"pypsa-eur-sec/resources/co2_totals.csv\", index_col=0)\n",
    "energy = pd.read_csv(path + \"pypsa-eur-sec/resources/energy_totals.csv\", index_col=0)\n",
    "transport = pd.read_csv(path + \"pypsa-eur-sec/resources/transport_data.csv\", index_col=0)\n",
    "biomass = pd.read_csv(path + \"pypsa-eur-sec/resources/biomass_potentials.csv\", index_col=0)"
   ]
  },
  {
   "cell_type": "code",
   "execution_count": null,
   "metadata": {},
   "outputs": [],
   "source": [
    "# nodal-level data\n",
    "pop = pd.read_csv(path + \"pypsa-eur-sec/resources/pop_layout_elec_s_60.csv\", index_col=0)\n",
    "idist = pd.read_csv(path + \"pypsa-eur-sec/resources/industrial_distribution_key_elec_s_60.csv\", index_col=0)\n",
    "ienergy = pd.read_csv(path + \"pypsa-eur-sec/resources/industrial_energy_demand_elec_s_60.csv\", index_col=0)\n",
    "iproduction = pd.read_csv(path + \"pypsa-eur-sec/resources/industrial_production_elec_s_60.csv\", index_col=0)\n",
    "ienergy[\"total\"] = ienergy.sum(axis=1)\n",
    "iproduction[\"total\"] = iproduction.sum(axis=1)"
   ]
  },
  {
   "cell_type": "code",
   "execution_count": null,
   "metadata": {},
   "outputs": [],
   "source": [
    "def cmap(select):\n",
    "    if \"bio\" in select:\n",
    "        return \"Greens\"\n",
    "    elif \"solar\" in select:\n",
    "        return \"Reds\"\n",
    "    elif \"wind\" in select:\n",
    "        return \"Blues\"\n",
    "    else:\n",
    "        return \"YlGnBu\""
   ]
  },
  {
   "cell_type": "code",
   "execution_count": null,
   "metadata": {},
   "outputs": [],
   "source": [
    "def plot_geo(gdf, df, options, clim=None, tiles=None, alpha=1., line_width=0.6, select=True):\n",
    "\n",
    "    if select:\n",
    "        selector = pnw.Select(options=options)\n",
    "    else:\n",
    "        selector = pnw.RadioBoxGroup(options=options)\n",
    "\n",
    "    def _plot(select):\n",
    "        return gdf.hvplot(\n",
    "            geo=True,\n",
    "            height=700,\n",
    "            c=df[select],\n",
    "            tiles=tiles,\n",
    "            alpha=alpha,\n",
    "            line_width=line_width,\n",
    "            cmap=cmap(select),\n",
    "            clim=clim,\n",
    "            hover_cols=['name']\n",
    "        ).opts(\n",
    "            active_tools=['pan', 'wheel_zoom']\n",
    "        )\n",
    "\n",
    "    plot = pn.bind(_plot, selector)\n",
    "    widgets  = pn.Column(selector, plot)\n",
    "    return widgets"
   ]
  },
  {
   "cell_type": "markdown",
   "metadata": {},
   "source": [
    "### country-level"
   ]
  },
  {
   "cell_type": "code",
   "execution_count": null,
   "metadata": {},
   "outputs": [],
   "source": [
    "plot_geo(cts, biomass, list(biomass.columns))"
   ]
  },
  {
   "cell_type": "code",
   "execution_count": null,
   "metadata": {},
   "outputs": [],
   "source": [
    "plot_geo(cts, transport, list(transport.columns))"
   ]
  },
  {
   "cell_type": "code",
   "execution_count": null,
   "metadata": {},
   "outputs": [],
   "source": [
    "plt_co2 = plot_geo(cts, co2, list(co2.columns))"
   ]
  },
  {
   "cell_type": "code",
   "execution_count": null,
   "metadata": {},
   "outputs": [],
   "source": [
    "plt_energy = plot_geo(cts, energy, list(energy.columns))"
   ]
  },
  {
   "cell_type": "markdown",
   "metadata": {},
   "source": [
    "## nodal level"
   ]
  },
  {
   "cell_type": "code",
   "execution_count": null,
   "metadata": {},
   "outputs": [],
   "source": [
    "plot_geo(nodes, idist, list(idist.columns))"
   ]
  },
  {
   "cell_type": "code",
   "execution_count": null,
   "metadata": {},
   "outputs": [],
   "source": [
    "plt_production = plot_geo(nodes, iproduction, list(iproduction.columns))"
   ]
  },
  {
   "cell_type": "code",
   "execution_count": null,
   "metadata": {},
   "outputs": [],
   "source": [
    "plt_population = plot_geo(nodes, pop, [\"total\", \"urban\", 'rural'])"
   ]
  },
  {
   "cell_type": "markdown",
   "metadata": {},
   "source": [
    "## Powerplantmatching"
   ]
  },
  {
   "cell_type": "code",
   "execution_count": null,
   "metadata": {},
   "outputs": [],
   "source": [
    "plants = pd.read_csv(\"https://raw.githubusercontent.com/FRESNA/powerplantmatching/master/matched_data_red.csv\", index_col=0)\n",
    "plants = plants.loc[(plants.lat > 34) & (plants.lon < 72)]"
   ]
  },
  {
   "cell_type": "code",
   "execution_count": null,
   "metadata": {},
   "outputs": [],
   "source": [
    "ppm_colors = {\n",
    "    \"Hydro\": 'teal',\n",
    "    \"Hard Coal\": 'black',\n",
    "    \"Lignite\": 'grey',\n",
    "    \"Natural Gas\": 'orange',\n",
    "    \"Nuclear\": 'red',\n",
    "    \"Oil\": 'brown',\n",
    "    \"Bioenergy\": 'green',\n",
    "    \"Wind\": '#235ebc',\n",
    "    \"Geothermal\": 'purple',\n",
    "    \"Solar\": '#f9d002',\n",
    "    \"Waste\": \"magenta\",\n",
    "    \"Other\": 'white',\n",
    "}"
   ]
  },
  {
   "cell_type": "code",
   "execution_count": null,
   "metadata": {},
   "outputs": [],
   "source": [
    "plt_powerplants = plants.hvplot.points(\n",
    "    'lon',\n",
    "    'lat',\n",
    "    geo=True,\n",
    "    frame_height=750,\n",
    "    c='Fueltype',\n",
    "    cmap=ppm_colors,\n",
    "    size=plants[\"Capacity\"] / 5,\n",
    "    alpha=0.4,\n",
    "    tiles='CartoLight',\n",
    "    hover_cols=['Name', 'Fueltype', \"Technology\", 'YearCommissioned', \"Retrofit\", \"Capacity\"],\n",
    "    xlim=(-12,32),\n",
    ").opts(\n",
    "    active_tools=['pan', 'wheel_zoom']\n",
    ")"
   ]
  },
  {
   "cell_type": "markdown",
   "metadata": {},
   "source": [
    "### Renewable Potentials Unclustered"
   ]
  },
  {
   "cell_type": "code",
   "execution_count": null,
   "metadata": {},
   "outputs": [],
   "source": [
    "wind = pd.Series()\n",
    "for profile in ['onwind', 'offwind-ac', 'offwind-dc']:\n",
    "    ds = xr.open_dataset(f'{path}/pypsa-eur/resources/profile_{profile}.nc')\n",
    "    wind = wind.append((ds.p_nom_max * ds.profile.sum('time')).to_pandas())\n",
    "wind = wind.sum(level=0).reindex(regions.index, fill_value=0)\n",
    "wind_per_skm = pd.DataFrame({\"wind\": wind / regions.Area / 1e3}) # GWh"
   ]
  },
  {
   "cell_type": "code",
   "execution_count": null,
   "metadata": {},
   "outputs": [],
   "source": [
    "ds = xr.open_dataset(f'{path}/pypsa-eur/resources/profile_solar.nc')\n",
    "solar = (ds.p_nom_max * ds.profile.sum('time')).to_pandas()\n",
    "\n",
    "solar = solar.sum(level=0).reindex(onregions.index, fill_value=0)\n",
    "solar_per_skm = pd.DataFrame({\"solar\": solar / onregions.Area / 1e3}) # GWh"
   ]
  },
  {
   "cell_type": "code",
   "execution_count": null,
   "metadata": {},
   "outputs": [],
   "source": [
    "plt_wind_per_skm = plot_geo(regions, wind_per_skm, [\"wind\"], tiles='CartoLight', alpha=0.5, line_width=0.1)"
   ]
  },
  {
   "cell_type": "code",
   "execution_count": null,
   "metadata": {},
   "outputs": [],
   "source": [
    "plt_solar_per_skm = plot_geo(onregions, solar_per_skm, [\"solar\"], tiles='CartoLight', alpha=0.7, line_width=0.1)"
   ]
  },
  {
   "cell_type": "markdown",
   "metadata": {},
   "source": [
    "### Renewable Potentials Clustered"
   ]
  },
  {
   "cell_type": "code",
   "execution_count": null,
   "metadata": {},
   "outputs": [],
   "source": [
    "cfs = n.generators_t.p_max_pu.groupby([n.generators.carrier, n.generators.bus.map(n.buses.location)], axis=1).mean().mean().unstack(0)"
   ]
  },
  {
   "cell_type": "code",
   "execution_count": null,
   "metadata": {},
   "outputs": [],
   "source": [
    "plt_cfs = plot_geo(nodes, cfs, list(cfs.columns))"
   ]
  },
  {
   "cell_type": "code",
   "execution_count": null,
   "metadata": {},
   "outputs": [],
   "source": [
    "pot = n.generators.p_nom_max.groupby([n.generators.carrier, n.generators.bus.map(n.buses.location)]).sum().unstack(0)"
   ]
  },
  {
   "cell_type": "code",
   "execution_count": null,
   "metadata": {},
   "outputs": [],
   "source": [
    "pot.drop(index=\"EU\", columns=['gas', 'oil', 'ror'], inplace=True)"
   ]
  },
  {
   "cell_type": "code",
   "execution_count": null,
   "metadata": {},
   "outputs": [],
   "source": [
    "plt_pot = plot_geo(nodes, pot, list(pot.columns))"
   ]
  },
  {
   "cell_type": "markdown",
   "metadata": {},
   "source": [
    "### Nodal Capacities and Costs"
   ]
  },
  {
   "cell_type": "code",
   "execution_count": null,
   "metadata": {},
   "outputs": [],
   "source": [
    "term_p = \"p_nom_opt\"\n",
    "term_e = \"e_nom_opt\""
   ]
  },
  {
   "cell_type": "raw",
   "metadata": {},
   "source": [
    "term_e = \"capital_cost * (e_nom_opt-e_nom)\"\n",
    "term_p = \"capital_cost * (p_nom_opt-p_nom)\""
   ]
  },
  {
   "cell_type": "code",
   "execution_count": null,
   "metadata": {},
   "outputs": [],
   "source": [
    "gen = n.generators.eval(term_p).groupby([n.generators.carrier, n.generators.bus.map(n.buses.location)]).sum()\n",
    "sto = n.stores.eval(term_e).groupby([n.stores.carrier, n.stores.bus.map(n.buses.location)]).sum()\n",
    "local_links = n.links.loc[n.links.bus0.map(n.buses.location) == n.links.bus1.map(n.buses.location)]\n",
    "link = local_links.eval(term_p).groupby([local_links.carrier, local_links.bus0.map(n.buses.location)]).sum()\n",
    "su = n.storage_units.eval(term_p).groupby([n.storage_units.carrier, n.storage_units.bus]).sum()"
   ]
  },
  {
   "cell_type": "code",
   "execution_count": null,
   "metadata": {},
   "outputs": [],
   "source": [
    "gen = gen.unstack().drop(\"EU\", axis=1).dropna(how='all')\n",
    "link = link.unstack().drop(\"EU\", axis=1).dropna(how='all')\n",
    "sto = sto.unstack().drop(\"EU\", axis=1).dropna(how='all')\n",
    "su = su.unstack()"
   ]
  },
  {
   "cell_type": "code",
   "execution_count": null,
   "metadata": {},
   "outputs": [],
   "source": [
    "cap = pd.concat([gen, sto, link, su]).T.div(1e3)"
   ]
  },
  {
   "cell_type": "code",
   "execution_count": null,
   "metadata": {},
   "outputs": [],
   "source": [
    "cap[cap <= 0.1] = 0."
   ]
  },
  {
   "cell_type": "code",
   "execution_count": null,
   "metadata": {},
   "outputs": [],
   "source": [
    "plt_cap = plot_geo(nodes, cap, list(cap.columns))"
   ]
  },
  {
   "cell_type": "markdown",
   "metadata": {},
   "source": [
    "## Base Networks"
   ]
  },
  {
   "cell_type": "code",
   "execution_count": null,
   "metadata": {},
   "outputs": [],
   "source": [
    "base = pypsa.Network(path + \"pypsa-eur/networks/base.nc\")"
   ]
  },
  {
   "cell_type": "code",
   "execution_count": null,
   "metadata": {},
   "outputs": [],
   "source": [
    "edge_ln_attrs = [\"s_nom\", \"s_nom_opt\", \"v_nom\", \"type\", \"s_nom_extendable\", \"capital_cost\", \"under_construction\", \"underground\"]\n",
    "edge_lk_attrs = [\"p_nom\", \"p_nom_opt\", \"type\", \"p_nom_extendable\", \"capital_cost\", \"under_construction\", \"underground\", \"underwater_fraction\", \"tags\"]"
   ]
  },
  {
   "cell_type": "code",
   "execution_count": null,
   "metadata": {},
   "outputs": [],
   "source": [
    "G_lines = nx.from_pandas_edgelist(base.lines.loc[base.lines.v_nom==380], 'bus0', 'bus1', edge_attr=edge_ln_attrs)\n",
    "G_links = nx.from_pandas_edgelist(base.links.loc[base.links.carrier=='DC'], 'bus0', 'bus1', edge_attr=edge_lk_attrs)\n",
    "pos = base.buses.loc[base.buses.carrier=='AC', [\"x\", \"y\"]].apply(tuple, axis=1).to_dict()"
   ]
  },
  {
   "cell_type": "code",
   "execution_count": null,
   "metadata": {},
   "outputs": [],
   "source": [
    "network_map = cts.hvplot(\n",
    "    geo=True,\n",
    "    alpha=0.,\n",
    "    height=850,\n",
    "    width=1400,\n",
    "    tiles=\"CartoLight\",\n",
    ") * \\\n",
    "hvnx.draw(\n",
    "    G_links,\n",
    "    pos=pos,\n",
    "    responsive=True,\n",
    "    geo=True,\n",
    "    node_size=0,\n",
    "    edge_color='royalblue',\n",
    "    inspection_policy=\"edges\",\n",
    "    edge_width=2,\n",
    ") * \\\n",
    "hvnx.draw(\n",
    "    G_lines,\n",
    "    pos=pos,\n",
    "    geo=True,\n",
    "    node_size=0,\n",
    "    edge_color='firebrick',\n",
    "    node_color='black',\n",
    "    inspection_policy=\"edges\",\n",
    "    edge_width=2,\n",
    ").opts(\n",
    "    active_tools=['pan', 'wheel_zoom']\n",
    ")"
   ]
  },
  {
   "cell_type": "code",
   "execution_count": null,
   "metadata": {},
   "outputs": [],
   "source": [
    "if len(base.lines.v_nom.unique()) > 1:\n",
    "    G_lines_300 = nx.from_pandas_edgelist(base.lines.loc[base.lines.v_nom==300], 'bus0', 'bus1', edge_attr=edge_ln_attrs)\n",
    "    G_lines_220 = nx.from_pandas_edgelist(base.lines.loc[base.lines.v_nom==220], 'bus0', 'bus1', edge_attr=edge_ln_attrs)\n",
    "    network_map *= \\\n",
    "    hvnx.draw(\n",
    "        G_lines_300,\n",
    "        pos=pos,\n",
    "        geo=True,\n",
    "        node_size=0,\n",
    "        edge_color='orange',\n",
    "        edge_width=1.5,\n",
    "        inspection_policy=\"edges\"\n",
    "    ) * \\\n",
    "    hvnx.draw(\n",
    "        G_lines_220,\n",
    "        pos=pos,\n",
    "        geo=True,\n",
    "        node_size=0,\n",
    "        edge_width=1,\n",
    "        edge_color='green',\n",
    "        inspection_policy=\"edges\",\n",
    "    )"
   ]
  },
  {
   "cell_type": "markdown",
   "metadata": {},
   "source": [
    "## Networks"
   ]
  },
  {
   "cell_type": "code",
   "execution_count": null,
   "metadata": {},
   "outputs": [],
   "source": [
    "G_lines = nx.from_pandas_edgelist(n.lines, 'bus0', 'bus1', edge_attr='s_nom_opt')"
   ]
  },
  {
   "cell_type": "code",
   "execution_count": null,
   "metadata": {},
   "outputs": [],
   "source": [
    "G_links = nx.from_pandas_edgelist(n.links.loc[n.links.carrier=='DC'], 'bus0', 'bus1', edge_attr='p_nom_opt')"
   ]
  },
  {
   "cell_type": "code",
   "execution_count": null,
   "metadata": {},
   "outputs": [],
   "source": [
    "H2 = n.links.loc[n.links.carrier=='H2 pipeline']\n",
    "H2[\"location0\"] = H2.bus0.apply(lambda x: x[:-3])\n",
    "H2[\"location1\"] = H2.bus1.apply(lambda x: x[:-3])\n",
    "G_H2 = nx.from_pandas_edgelist(H2, 'location0', 'location1', edge_attr='p_nom_opt')\n",
    "electrolysis = n.links.loc[n.links.carrier=='H2 Electrolysis'].groupby(\"bus0\").p_nom_opt.sum()\n",
    "nx.set_node_attributes(G_H2, electrolysis, \"electrolysis\")"
   ]
  },
  {
   "cell_type": "code",
   "execution_count": null,
   "metadata": {},
   "outputs": [],
   "source": [
    "pos = n.buses.loc[n.buses.carrier=='AC', [\"x\", \"y\"]].apply(tuple, axis=1).to_dict()"
   ]
  },
  {
   "cell_type": "code",
   "execution_count": null,
   "metadata": {},
   "outputs": [],
   "source": [
    "elec_net = nodes.hvplot(\n",
    "    geo=True,\n",
    "    color='whitesmoke',\n",
    "    line_color='grey',\n",
    "    line_width=0.5,\n",
    "    #transform=ccrs.EuroPP(),\n",
    ") * \\\n",
    "hvnx.draw(\n",
    "    G_links, \n",
    "    pos=pos,\n",
    "    width=1000,\n",
    "    height=800,\n",
    "    node_size=0,\n",
    "    edge_color='navy',\n",
    "    edge_width=hv.dim('p_nom_opt') / 3e3,\n",
    "    geo=True,\n",
    "    #crs=ccrs.EuroPP(),\n",
    "    inspection_policy='edges'\n",
    ") * \\\n",
    "hvnx.draw(\n",
    "    G_lines, \n",
    "    pos=pos,\n",
    "    width=1000,\n",
    "    height=800,\n",
    "    node_size=40,\n",
    "    node_color='gray',\n",
    "    edge_color='firebrick',\n",
    "    edge_width=hv.dim('s_nom_opt') / 3e3,\n",
    "    geo=True,\n",
    "    #crs=ccrs.EuroPP(),\n",
    "    inspection_policy='edges'\n",
    ").opts(\n",
    "    active_tools=['pan', 'wheel_zoom']\n",
    ")"
   ]
  },
  {
   "cell_type": "code",
   "execution_count": null,
   "metadata": {},
   "outputs": [],
   "source": [
    "h2_net = nodes.hvplot(\n",
    "    geo=True,\n",
    "    color='whitesmoke',\n",
    "    line_color='grey',\n",
    "    line_width=0.5,\n",
    ") * \\\n",
    "hvnx.draw(\n",
    "    G_H2, \n",
    "    pos=pos,\n",
    "    width=1000,\n",
    "    height=800,\n",
    "    edge_color='cyan',\n",
    "    edge_width=hv.dim('p_nom_opt') / 3e3,\n",
    "    node_color='magenta',\n",
    "    node_size=hv.dim(\"electrolysis\") / 2e2,\n",
    "    geo=True,\n",
    "    inspection_policy='edges'\n",
    ").opts(\n",
    "    active_tools=['pan', 'wheel_zoom']\n",
    ")"
   ]
  },
  {
   "cell_type": "markdown",
   "metadata": {},
   "source": [
    "## System time series"
   ]
  },
  {
   "cell_type": "code",
   "execution_count": null,
   "metadata": {},
   "outputs": [],
   "source": [
    "# one resampled version, one hourly version"
   ]
  },
  {
   "cell_type": "code",
   "execution_count": null,
   "metadata": {},
   "outputs": [],
   "source": [
    "load = n.loads_t.p_set.groupby(n.loads.carrier, axis=1).sum()\n",
    "formatter = DatetimeTickFormatter(months='%b')"
   ]
  },
  {
   "cell_type": "code",
   "execution_count": null,
   "metadata": {},
   "outputs": [],
   "source": [
    "plt_load_ts = load.hvplot.area(width=1000, stacked=True, xformatter=formatter)"
   ]
  },
  {
   "cell_type": "code",
   "execution_count": null,
   "metadata": {},
   "outputs": [],
   "source": [
    "selection = [\"offwind-ac\", \"offwind-dc\", \"onwind\", \"ror\", \"solar\"]\n",
    "cfs = n.generators_t.p_max_pu.groupby(n.generators.carrier, axis=1).mean()[selection]"
   ]
  },
  {
   "cell_type": "code",
   "execution_count": null,
   "metadata": {},
   "outputs": [],
   "source": [
    "cfs.hvplot.line(width=1000, xformatter=formatter)"
   ]
  },
  {
   "cell_type": "code",
   "execution_count": null,
   "metadata": {},
   "outputs": [],
   "source": [
    "gen = n.generators_t.p.groupby(n.generators.carrier, axis=1).sum()"
   ]
  },
  {
   "cell_type": "code",
   "execution_count": null,
   "metadata": {},
   "outputs": [],
   "source": [
    "su = n.storage_units_t.p.groupby(n.storage_units.carrier, axis=1).sum()"
   ]
  },
  {
   "cell_type": "code",
   "execution_count": null,
   "metadata": {},
   "outputs": [],
   "source": [
    "df = pd.concat([gen, su], axis=1)"
   ]
  },
  {
   "cell_type": "code",
   "execution_count": null,
   "metadata": {},
   "outputs": [],
   "source": [
    "plt_gen_ts = df.hvplot.area(width=1000, height=500, line_width=0, title=\"electricity generation\")"
   ]
  },
  {
   "cell_type": "markdown",
   "metadata": {},
   "source": [
    "# Cutouts"
   ]
  },
  {
   "cell_type": "code",
   "execution_count": null,
   "metadata": {},
   "outputs": [],
   "source": [
    "era5 = atlite.Cutout(path + \"pypsa-eur/cutouts/europe-2013-era5.nc\")\n",
    "sarah = atlite.Cutout(path + \"pypsa-eur/cutouts/europe-2013-sarah.nc\")"
   ]
  },
  {
   "cell_type": "code",
   "execution_count": null,
   "metadata": {},
   "outputs": [],
   "source": [
    "def plot_cutout(cutout, variable):\n",
    "\n",
    "    return cutout.data.hvplot.quadmesh(\n",
    "        'x', 'y', variable,\n",
    "        frame_height=700,\n",
    "        cmap='Reds',\n",
    "        coastline=True,\n",
    "        project=True,\n",
    "        geo=True,\n",
    "        rasterize=True,\n",
    "        ylim=(34,72),\n",
    "        xlim=(-12,34),\n",
    "        #clim=(0,1200),\n",
    "        widget_location='top',\n",
    "        #widgets={'time': pnw.DatetimeInput(value=dt.datetime(2013, 2, 8, 0, 0))}\n",
    "        #tiles='CartoLight'\n",
    "        #datashade=True, # removes legend\n",
    "    )"
   ]
  },
  {
   "cell_type": "code",
   "execution_count": null,
   "metadata": {},
   "outputs": [],
   "source": [
    "plt_cutout_wind = plot_cutout(era5, \"wnd100m\")"
   ]
  },
  {
   "cell_type": "code",
   "execution_count": null,
   "metadata": {},
   "outputs": [],
   "source": [
    "plt_cutout_solar = plot_cutout(sarah, \"influx_direct\")"
   ]
  },
  {
   "cell_type": "markdown",
   "metadata": {},
   "source": [
    "## Outputs"
   ]
  },
  {
   "cell_type": "code",
   "execution_count": null,
   "metadata": {},
   "outputs": [],
   "source": [
    "import sys, os\n",
    "sys.path.insert(0, os.getcwd() + \"/\" + path + \"pypsa-eur-sec/scripts\")\n",
    "from plot_summary import rename_techs, preferred_order"
   ]
  },
  {
   "cell_type": "code",
   "execution_count": null,
   "metadata": {},
   "outputs": [],
   "source": [
    "cost_df = pd.read_csv(\n",
    "    path + \"pypsa-eur-sec/results/your-run-name-overnight-dev/csvs/costs.csv\",\n",
    "    index_col=list(range(3)),\n",
    "    header=list(range(4))\n",
    ")\n",
    "df = cost_df.groupby(cost_df.index.get_level_values(2)).sum()\n",
    "df = df / 1e9\n",
    "df = df.groupby(df.index.map(rename_techs)).sum()\n",
    "\n",
    "to_drop = df.index[df.max(axis=1) < 1.]\n",
    "                   \n",
    "new_index = preferred_order.intersection(df.index).append(df.index.difference(preferred_order))\n",
    "new_columns = df.sum().sort_values().index"
   ]
  },
  {
   "cell_type": "code",
   "execution_count": null,
   "metadata": {},
   "outputs": [],
   "source": [
    "df.columns = [', '.join(col).strip() for col in df.columns.values]"
   ]
  },
  {
   "cell_type": "code",
   "execution_count": null,
   "metadata": {},
   "outputs": [],
   "source": [
    "plt_scen_costs = df.T.hvplot.bar(\n",
    "    stacked=True,\n",
    "    rot=65,\n",
    "    frame_width=800,\n",
    "    frame_height=600,\n",
    "    ylim=(0,1000),\n",
    "    color='Category', cmap=colors)"
   ]
  },
  {
   "cell_type": "code",
   "execution_count": null,
   "metadata": {},
   "outputs": [],
   "source": [
    "plt_scen_costs"
   ]
  },
  {
   "cell_type": "code",
   "execution_count": null,
   "metadata": {},
   "outputs": [],
   "source": [
    "energy_df = pd.read_csv(\n",
    "    path + \"pypsa-eur-sec/results/your-run-name-overnight-dev/csvs/energy.csv\",\n",
    "    index_col=list(range(2)),\n",
    "    header=list(range(4))\n",
    ")\n",
    "df = energy_df.groupby(energy_df.index.get_level_values(1)).sum()\n",
    "df = df / 1e6\n",
    "df = df.groupby(df.index.map(rename_techs)).sum()\n",
    "to_drop = df.index[df.abs().max(axis=1) < 50]\n",
    "df = df.drop(to_drop)\n",
    "new_index = preferred_order.intersection(df.index).append(df.index.difference(preferred_order))\n",
    "new_columns = df.columns.sort_values()"
   ]
  },
  {
   "cell_type": "code",
   "execution_count": null,
   "metadata": {},
   "outputs": [],
   "source": [
    "df.columns = [', '.join(col).strip() for col in df.columns.values]"
   ]
  },
  {
   "cell_type": "code",
   "execution_count": null,
   "metadata": {},
   "outputs": [],
   "source": [
    "plt_scen_energy = df.T.hvplot.bar(stacked=True, rot=65, frame_width=800, frame_height=600, ylim=(-20000,20000), color='Category', cmap=colors)"
   ]
  },
  {
   "cell_type": "markdown",
   "metadata": {},
   "source": [
    "## Sankey\n",
    "as https://holoviews.org/gallery/demos/bokeh/energy_sankey.html"
   ]
  },
  {
   "cell_type": "code",
   "execution_count": null,
   "metadata": {},
   "outputs": [],
   "source": [
    "edges = pd.read_csv('../data/connection.csv')\n",
    "sankey = hv.Sankey(edges, label='Energy Diagram')\n",
    "sankey.opts(label_position='left', edge_color='target', node_color='index', cmap=colors)"
   ]
  },
  {
   "cell_type": "markdown",
   "metadata": {},
   "source": [
    "## Industry Sector Ratios"
   ]
  },
  {
   "cell_type": "code",
   "execution_count": null,
   "metadata": {},
   "outputs": [],
   "source": [
    "iratios = pd.read_csv(path + \"pypsa-eur-sec/resources/industry_sector_ratios.csv\", index_col=0)"
   ]
  },
  {
   "cell_type": "code",
   "execution_count": null,
   "metadata": {},
   "outputs": [],
   "source": [
    "plt_iratios = iratios.T.hvplot.barh(stacked=True, width=1000, height=400, title=\"Industry Sector Ratios [MWh/t material]\")"
   ]
  },
  {
   "cell_type": "markdown",
   "metadata": {},
   "source": [
    "## Hotmaps Raw"
   ]
  },
  {
   "cell_type": "code",
   "execution_count": null,
   "metadata": {},
   "outputs": [],
   "source": [
    "def prepare_hotmaps_database(regions):\n",
    "    \"\"\"\n",
    "    Load hotmaps database of industrial sites and map onto bus regions.\n",
    "    \"\"\"\n",
    "\n",
    "    df = pd.read_csv(path + \"pypsa-eur-sec/data/Industrial_Database.csv\", sep=\";\", index_col=0)\n",
    "\n",
    "    df[[\"srid\", \"coordinates\"]] = df.geom.str.split(';', expand=True)\n",
    "\n",
    "    # remove those sites without valid locations\n",
    "    df.drop(df.index[df.coordinates.isna()], inplace=True)\n",
    "\n",
    "    df['coordinates'] = gpd.GeoSeries.from_wkt(df['coordinates'])\n",
    "\n",
    "    gdf = gpd.GeoDataFrame(df, geometry='coordinates', crs=\"EPSG:4326\")\n",
    "\n",
    "    gdf = gpd.sjoin(gdf, regions, how=\"inner\", op='within')\n",
    "\n",
    "    gdf.rename(columns={\"index_right\": \"bus\"}, inplace=True)\n",
    "    gdf[\"country\"] = gdf.bus.str[:2]\n",
    "\n",
    "    return gdf"
   ]
  },
  {
   "cell_type": "code",
   "execution_count": null,
   "metadata": {},
   "outputs": [],
   "source": [
    "hotmaps = prepare_hotmaps_database(nodes)\n",
    "\n",
    "hotmaps[\"geometry\"] = hotmaps.coordinates\n",
    "hotmaps[\"lat\"] = hotmaps.geometry.y\n",
    "hotmaps[\"lon\"] = hotmaps.geometry.x"
   ]
  },
  {
   "cell_type": "code",
   "execution_count": null,
   "metadata": {},
   "outputs": [],
   "source": [
    "plt_hotmaps = hotmaps.hvplot.points(\n",
    "    'lon',\n",
    "    'lat',\n",
    "    geo=True,\n",
    "    frame_height=750,\n",
    "    c='Subsector',\n",
    "    size=hotmaps[\"Emissions_ETS_2014\"] / 2e3,\n",
    "    alpha=0.4,\n",
    "    tiles='CartoLight',\n",
    "    hover_cols=['SiteName', \"Emissions_ETS_2014\", \"DataSource\"],\n",
    ").opts(\n",
    "    active_tools=['pan', 'wheel_zoom']\n",
    ")"
   ]
  },
  {
   "cell_type": "code",
   "execution_count": null,
   "metadata": {},
   "outputs": [],
   "source": [
    "import panel as pn\n",
    "import numpy as np\n",
    "import holoviews as hv\n",
    "\n",
    "pn.extension()\n",
    "\n",
    "board = pn.template.BootstrapTemplate(title='PyPSA-Eur-Sec Dashboard', header_background=\"#d95568\")\n",
    "\n",
    "pn.config.sizing_mode = 'stretch_width'\n",
    "\n",
    "intro = pn.pane.Markdown('''\n",
    "\n",
    "PyPSA-Eur-Sec is an open model dataset of the European energy system\n",
    "at the transmission network level that covers the full ENTSO-E area.\n",
    "\n",
    "[pypsa-eur-sec.readthedocs.io](https://pypsa-eur-sec.readthedocs.io/)\n",
    "''')\n",
    "\n",
    "_network_map = pn.Row(\n",
    "    network_map\n",
    ")\n",
    "\n",
    "_existing = pn.Row(\n",
    "    pn.Card(plt_hotmaps, collapsible=False, title=\"Industrial Sites\"),\n",
    "    pn.Card(plt_powerplants, collapsible=False, title=\"Powerplants\")\n",
    ")\n",
    "\n",
    "_potentials = pn.Row(\n",
    "    pn.Card(plt_wind_per_skm, collapsible=False, title=\"Wind Potential\"),\n",
    "    pn.Card(plt_solar_per_skm, collapsible=False, title=\"Solar Potential\"),\n",
    ")\n",
    "\n",
    "_cutouts = pn.Row(\n",
    "    pn.Card(plt_cutout_wind, collapsible=False, title=\"Wind Speeds\"),\n",
    "    pn.Card(plt_cutout_solar, collapsible=False, title=\"Direct Influx\")\n",
    ")\n",
    "\n",
    "_clustered_potentials = pn.Row(\n",
    "    pn.Card(plt_cfs, collapsible=False, title=\"Capacity Factors\"),\n",
    "    pn.Card(plt_pot, collapsible=False, title=\"Potential\")\n",
    ")\n",
    "\n",
    "_totals = pn.Row(\n",
    "    pn.Card(plt_energy, collapsible=False, title=\"Energy Consumption\"),\n",
    "    pn.Card(plt_co2, collapsible=False, title=\"Carbon Emissions\")\n",
    ")\n",
    "\n",
    "_opt_nets = pn.Row(\n",
    "    pn.Card(elec_net, collapsible=False, title=\"Electricty Network\"),\n",
    "    pn.Card(h2_net, collapsible=False, title=\"Hydrogen Network\")\n",
    ")\n",
    "\n",
    "_timeseries = pn.Column(\n",
    "    pn.Card(plt_load_ts, collapsible=False, title=\"Load\"),\n",
    "    pn.Card(plt_gen_ts, collapsible=False, title=\"Electricity Generation\")\n",
    ")\n",
    "\n",
    "board.sidebar.append(intro)\n",
    "\n",
    "board.main.append(pn.pane.Markdown(\"\"\" \"\"\"))\n",
    "\n",
    "board.main.append(\n",
    "    pn.Tabs(\n",
    "        (\"Transmission Network\", _network_map),\n",
    "        (\"Existing Infrastructure\", _existing),\n",
    "        (\"Renewable Potentials\", _potentials),\n",
    "        (\"Cutouts\", _cutouts),\n",
    "        (\"Renewable Potentials (clustered)\", _clustered_potentials),\n",
    "        (\"Energy and CO2\", _totals),\n",
    "        (\"Industry Sector Ratios\", plt_iratios),\n",
    "        (\"Energy\", plt_scen_energy),\n",
    "        (\"System Costs\", plt_scen_costs),\n",
    "        (\"Optimised Networks\", _opt_nets),\n",
    "        (\"Optimised Capacities\", plt_cap),\n",
    "        (\"Timeseries\", _timeseries),\n",
    "        dynamic=True\n",
    "    )\n",
    ")\n",
    "\n",
    "board.show()"
   ]
  },
  {
   "cell_type": "code",
   "execution_count": null,
   "metadata": {},
   "outputs": [],
   "source": []
  }
 ],
 "metadata": {
  "kernelspec": {
   "display_name": "",
   "language": "python",
   "name": ""
  },
  "language_info": {
   "codemirror_mode": {
    "name": "ipython",
    "version": 3
   },
   "file_extension": ".py",
   "mimetype": "text/x-python",
   "name": "python",
   "nbconvert_exporter": "python",
   "pygments_lexer": "ipython3",
   "version": "3.8.8"
  }
 },
 "nbformat": 4,
 "nbformat_minor": 4
}