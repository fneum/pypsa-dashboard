{
 "cells": [
  {
   "cell_type": "markdown",
   "metadata": {},
   "source": [
    "Need `mamba install -c conda-forge hvplot geoviews nodejs bokeh holoviews panel`."
   ]
  },
  {
   "cell_type": "code",
   "execution_count": null,
   "metadata": {},
   "outputs": [],
   "source": [
    "import pypsa\n",
    "import atlite\n",
    "\n",
    "import pandas as pd\n",
    "import numpy as np\n",
    "import geopandas as gpd\n",
    "import xarray as xr\n",
    "import networkx as nx\n",
    "\n",
    "import panel as pn\n",
    "import panel.widgets as pnw\n",
    "import holoviews as hv\n",
    "\n",
    "import cartopy.crs as ccrs\n",
    "\n",
    "import hvplot.pandas\n",
    "import hvplot.xarray\n",
    "import hvplot.networkx as hvnx"
   ]
  },
  {
   "cell_type": "code",
   "execution_count": null,
   "metadata": {},
   "outputs": [],
   "source": [
    "from bokeh.models.formatters import DatetimeTickFormatter\n",
    "pn.extension()"
   ]
  },
  {
   "cell_type": "code",
   "execution_count": null,
   "metadata": {},
   "outputs": [],
   "source": [
    "path = \"../../pr/\""
   ]
  },
  {
   "cell_type": "code",
   "execution_count": null,
   "metadata": {},
   "outputs": [],
   "source": [
    "import yaml\n",
    "with open(path + \"pypsa-eur-sec/config.yaml\") as file:\n",
    "    config = yaml.safe_load(file)\n",
    "\n",
    "colors = config[\"plotting\"][\"tech_colors\"]"
   ]
  },
  {
   "cell_type": "markdown",
   "metadata": {},
   "source": [
    "## Solved Network"
   ]
  },
  {
   "cell_type": "code",
   "execution_count": null,
   "metadata": {},
   "outputs": [],
   "source": [
    "n = pypsa.Network(\n",
    "    path + \"pypsa-eur-sec/results/your-run-name-overnight-dev/postnetworks/elec_s_60_lv1.25__Co2L0p0-365H-T-H-B-I-solar+p3-dist1_2030.nc\"\n",
    ")"
   ]
  },
  {
   "cell_type": "markdown",
   "metadata": {},
   "source": [
    "## Geometry Polygon Data"
   ]
  },
  {
   "cell_type": "code",
   "execution_count": null,
   "metadata": {},
   "outputs": [],
   "source": [
    "# shapes\n",
    "nodes = gpd.read_file(path + \"pypsa-eur/resources/regions_onshore_elec_s_60.geojson\").set_index('name')\n",
    "cts = gpd.read_file(path + \"pypsa-eur/resources/country_shapes.geojson\").set_index('name')"
   ]
  },
  {
   "cell_type": "markdown",
   "metadata": {},
   "source": [
    "## Model Inputs"
   ]
  },
  {
   "cell_type": "code",
   "execution_count": null,
   "metadata": {},
   "outputs": [],
   "source": [
    "# country-level data\n",
    "co2 = pd.read_csv(path + \"pypsa-eur-sec/resources/co2_totals.csv\", index_col=0)\n",
    "energy = pd.read_csv(path + \"pypsa-eur-sec/resources/energy_totals.csv\", index_col=0)\n",
    "transport = pd.read_csv(path + \"pypsa-eur-sec/resources/transport_data.csv\", index_col=0)\n",
    "biomass = pd.read_csv(path + \"pypsa-eur-sec/resources/biomass_potentials.csv\", index_col=0)"
   ]
  },
  {
   "cell_type": "code",
   "execution_count": null,
   "metadata": {},
   "outputs": [],
   "source": [
    "# nodal-level data\n",
    "pop = pd.read_csv(path + \"pypsa-eur-sec/resources/pop_layout_elec_s_60.csv\", index_col=0)\n",
    "idist = pd.read_csv(path + \"pypsa-eur-sec/resources/industrial_distribution_key_elec_s_60.csv\", index_col=0)\n",
    "ienergy = pd.read_csv(path + \"pypsa-eur-sec/resources/industrial_energy_demand_elec_s_60.csv\", index_col=0)\n",
    "iproduction = pd.read_csv(path + \"pypsa-eur-sec/resources/industrial_production_elec_s_60.csv\", index_col=0)\n",
    "ienergy[\"total\"] = ienergy.sum(axis=1)\n",
    "iproduction[\"total\"] = iproduction.sum(axis=1)"
   ]
  },
  {
   "cell_type": "code",
   "execution_count": null,
   "metadata": {},
   "outputs": [],
   "source": [
    "def cmap(select):\n",
    "    if \"bio\" in select:\n",
    "        return \"Greens\"\n",
    "    elif \"solar\" in select:\n",
    "        return \"Reds\"\n",
    "    elif \"wind\" in select:\n",
    "        return \"Blues\"\n",
    "    else:\n",
    "        return \"YlGnBu\""
   ]
  },
  {
   "cell_type": "code",
   "execution_count": null,
   "metadata": {},
   "outputs": [],
   "source": [
    "def plot_geo(gdf, df, options, clim=None):\n",
    "\n",
    "    selector = pnw.RadioBoxGroup(name='RadioBoxGroup', options=options)\n",
    "\n",
    "    def _plot(select):\n",
    "        return gdf.hvplot(\n",
    "            geo=True,\n",
    "            frame_height=600,\n",
    "            c=df[select],\n",
    "            #tiles='CartoLight',\n",
    "            alpha=0.7,\n",
    "            line_width=0.8,\n",
    "            cmap=cmap(select),\n",
    "            clim=clim\n",
    "        ).opts(\n",
    "            active_tools=['pan', 'wheel_zoom']\n",
    "        )\n",
    "\n",
    "    plot = pn.bind(_plot, selector)\n",
    "    widgets  = pn.Row(plot, selector)\n",
    "    return widgets"
   ]
  },
  {
   "cell_type": "code",
   "execution_count": null,
   "metadata": {},
   "outputs": [],
   "source": [
    "plot_geo(cts, biomass, list(biomass.columns))"
   ]
  },
  {
   "cell_type": "code",
   "execution_count": null,
   "metadata": {},
   "outputs": [],
   "source": [
    "plot_geo(cts, transport, list(transport.columns))"
   ]
  },
  {
   "cell_type": "code",
   "execution_count": null,
   "metadata": {},
   "outputs": [],
   "source": [
    "plot_geo(nodes, idist, list(idist.columns))"
   ]
  },
  {
   "cell_type": "code",
   "execution_count": null,
   "metadata": {},
   "outputs": [],
   "source": [
    "plot_geo(nodes, iproduction, list(iproduction.columns))"
   ]
  },
  {
   "cell_type": "code",
   "execution_count": null,
   "metadata": {},
   "outputs": [],
   "source": [
    "plot_geo(nodes, pop, [\"total\", \"urban\", 'rural'])"
   ]
  },
  {
   "cell_type": "code",
   "execution_count": null,
   "metadata": {},
   "outputs": [],
   "source": [
    "plot_geo(cts, co2, list(co2.columns))"
   ]
  },
  {
   "cell_type": "code",
   "execution_count": null,
   "metadata": {},
   "outputs": [],
   "source": [
    "plot_geo(cts, energy, list(energy.columns))"
   ]
  },
  {
   "cell_type": "markdown",
   "metadata": {},
   "source": [
    "### Renewable Potentials"
   ]
  },
  {
   "cell_type": "code",
   "execution_count": null,
   "metadata": {},
   "outputs": [],
   "source": [
    "cfs = n.generators_t.p_max_pu.groupby([n.generators.carrier, n.generators.bus.map(n.buses.location)], axis=1).mean().mean().unstack(0)"
   ]
  },
  {
   "cell_type": "code",
   "execution_count": null,
   "metadata": {},
   "outputs": [],
   "source": [
    "plot_geo(nodes, cfs, list(cfs.columns))"
   ]
  },
  {
   "cell_type": "code",
   "execution_count": null,
   "metadata": {},
   "outputs": [],
   "source": [
    "pot = n.generators.p_nom_max.groupby([n.generators.carrier, n.generators.bus.map(n.buses.location)]).sum().unstack(0)"
   ]
  },
  {
   "cell_type": "code",
   "execution_count": null,
   "metadata": {},
   "outputs": [],
   "source": [
    "pot.drop(index=\"EU\", columns=['gas', 'oil', 'ror'], inplace=True)"
   ]
  },
  {
   "cell_type": "code",
   "execution_count": null,
   "metadata": {},
   "outputs": [],
   "source": [
    "plot_geo(nodes, pot, list(pot.columns))"
   ]
  },
  {
   "cell_type": "markdown",
   "metadata": {},
   "source": [
    "### Nodal Capacities and Costs"
   ]
  },
  {
   "cell_type": "code",
   "execution_count": null,
   "metadata": {},
   "outputs": [],
   "source": [
    "term_p = \"p_nom_opt\"\n",
    "term_e = \"e_nom_opt\""
   ]
  },
  {
   "cell_type": "raw",
   "metadata": {},
   "source": [
    "term_e = \"capital_cost * (e_nom_opt-e_nom)\"\n",
    "term_p = \"capital_cost * (p_nom_opt-p_nom)\""
   ]
  },
  {
   "cell_type": "code",
   "execution_count": null,
   "metadata": {},
   "outputs": [],
   "source": [
    "gen = n.generators.eval(term_p).groupby([n.generators.carrier, n.generators.bus.map(n.buses.location)]).sum()\n",
    "sto = n.stores.eval(term_e).groupby([n.stores.carrier, n.stores.bus.map(n.buses.location)]).sum()\n",
    "local_links = n.links.loc[n.links.bus0.map(n.buses.location) == n.links.bus1.map(n.buses.location)]\n",
    "link = local_links.eval(term_p).groupby([local_links.carrier, local_links.bus0.map(n.buses.location)]).sum()\n",
    "su = n.storage_units.eval(term_p).groupby([n.storage_units.carrier, n.storage_units.bus]).sum()"
   ]
  },
  {
   "cell_type": "code",
   "execution_count": null,
   "metadata": {},
   "outputs": [],
   "source": [
    "gen = gen.unstack().drop(\"EU\", axis=1).dropna(how='all')\n",
    "link = link.unstack().drop(\"EU\", axis=1).dropna(how='all')\n",
    "sto = sto.unstack().drop(\"EU\", axis=1).dropna(how='all')\n",
    "su = su.unstack()"
   ]
  },
  {
   "cell_type": "code",
   "execution_count": null,
   "metadata": {},
   "outputs": [],
   "source": [
    "cap = pd.concat([gen, sto, link, su]).T.div(1e3)"
   ]
  },
  {
   "cell_type": "code",
   "execution_count": null,
   "metadata": {},
   "outputs": [],
   "source": [
    "cap[cap <= 0.1] = 0."
   ]
  },
  {
   "cell_type": "code",
   "execution_count": null,
   "metadata": {},
   "outputs": [],
   "source": [
    "plot_geo(nodes, cap, list(cap.columns))#, clim=(0,25))"
   ]
  },
  {
   "cell_type": "markdown",
   "metadata": {},
   "source": [
    "## Base Networks"
   ]
  },
  {
   "cell_type": "code",
   "execution_count": null,
   "metadata": {},
   "outputs": [],
   "source": [
    "base = pypsa.Network(path + \"pypsa-eur/networks/base.nc\")"
   ]
  },
  {
   "cell_type": "code",
   "execution_count": null,
   "metadata": {},
   "outputs": [],
   "source": [
    "edge_ln_attrs = [\"s_nom\", \"s_nom_opt\", \"v_nom\", \"type\", \"s_nom_extendable\", \"capital_cost\", \"under_construction\", \"underground\"]\n",
    "edge_lk_attrs = [\"p_nom\", \"p_nom_opt\", \"type\", \"p_nom_extendable\", \"capital_cost\", \"under_construction\", \"underground\", \"underwater_fraction\", \"tags\"]"
   ]
  },
  {
   "cell_type": "code",
   "execution_count": null,
   "metadata": {},
   "outputs": [],
   "source": [
    "G_lines = nx.from_pandas_edgelist(base.lines.loc[base.lines.v_nom==380], 'bus0', 'bus1', edge_attr=edge_ln_attrs)\n",
    "G_links = nx.from_pandas_edgelist(base.links.loc[base.links.carrier=='DC'], 'bus0', 'bus1', edge_attr=edge_lk_attrs)\n",
    "pos = base.buses.loc[base.buses.carrier=='AC', [\"x\", \"y\"]].apply(tuple, axis=1).to_dict()"
   ]
  },
  {
   "cell_type": "code",
   "execution_count": null,
   "metadata": {},
   "outputs": [],
   "source": [
    "network_map = cts.hvplot(\n",
    "    geo=True,\n",
    "    alpha=0.,\n",
    "    tiles=\"CartoLight\"\n",
    ") * \\\n",
    "hvnx.draw(\n",
    "    G_links,\n",
    "    pos=pos,\n",
    "    width=1000,\n",
    "    height=900,\n",
    "    geo=True,\n",
    "    node_size=0,\n",
    "    edge_color='royalblue',\n",
    "    inspection_policy=\"edges\",\n",
    "    edge_width=2,\n",
    ") * \\\n",
    "hvnx.draw(\n",
    "    G_lines,\n",
    "    pos=pos,\n",
    "    geo=True,\n",
    "    width=1000,\n",
    "    height=900,\n",
    "    node_size=2,\n",
    "    edge_color='firebrick',\n",
    "    node_color='black',\n",
    "    inspection_policy=\"edges\",\n",
    "    edge_width=2,\n",
    ").opts(\n",
    "    active_tools=['pan', 'wheel_zoom']\n",
    ")"
   ]
  },
  {
   "cell_type": "code",
   "execution_count": null,
   "metadata": {},
   "outputs": [],
   "source": [
    "if len(base.lines.v_nom.unique()) > 1:\n",
    "    G_lines_300 = nx.from_pandas_edgelist(base.lines.loc[base.lines.v_nom==300], 'bus0', 'bus1', edge_attr=edge_ln_attrs)\n",
    "    G_lines_220 = nx.from_pandas_edgelist(base.lines.loc[base.lines.v_nom==220], 'bus0', 'bus1', edge_attr=edge_ln_attrs)\n",
    "    network_map *= \\\n",
    "    hvnx.draw(\n",
    "        G_lines_300,\n",
    "        pos=pos,\n",
    "        width=1000,\n",
    "        height=900,\n",
    "        geo=True,\n",
    "        node_size=0,\n",
    "        edge_color='orange',\n",
    "        edge_width=1.5,\n",
    "        inspection_policy=\"edges\"\n",
    "    ) * \\\n",
    "    hvnx.draw(\n",
    "        G_lines_220,\n",
    "        pos=pos,\n",
    "        geo=True,\n",
    "        width=1000,\n",
    "        height=900,\n",
    "        node_size=0,\n",
    "        edge_width=1,\n",
    "        edge_color='green',\n",
    "        inspection_policy=\"edges\",\n",
    "    )"
   ]
  },
  {
   "cell_type": "code",
   "execution_count": null,
   "metadata": {},
   "outputs": [],
   "source": [
    "network_map"
   ]
  },
  {
   "cell_type": "markdown",
   "metadata": {},
   "source": [
    "## Networks"
   ]
  },
  {
   "cell_type": "code",
   "execution_count": null,
   "metadata": {},
   "outputs": [],
   "source": [
    "G_lines = nx.from_pandas_edgelist(n.lines, 'bus0', 'bus1', edge_attr='s_nom_opt')"
   ]
  },
  {
   "cell_type": "code",
   "execution_count": null,
   "metadata": {},
   "outputs": [],
   "source": [
    "G_links = nx.from_pandas_edgelist(n.links.loc[n.links.carrier=='DC'], 'bus0', 'bus1', edge_attr='p_nom_opt')"
   ]
  },
  {
   "cell_type": "code",
   "execution_count": null,
   "metadata": {},
   "outputs": [],
   "source": [
    "H2 = n.links.loc[n.links.carrier=='H2 pipeline']\n",
    "H2[\"location0\"] = H2.bus0.apply(lambda x: x[:-3])\n",
    "H2[\"location1\"] = H2.bus1.apply(lambda x: x[:-3])\n",
    "G_H2 = nx.from_pandas_edgelist(H2, 'location0', 'location1', edge_attr='p_nom_opt')\n",
    "electrolysis = n.links.loc[n.links.carrier=='H2 Electrolysis'].groupby(\"bus0\").p_nom_opt.sum()\n",
    "nx.set_node_attributes(G_H2, electrolysis, \"electrolysis\")"
   ]
  },
  {
   "cell_type": "code",
   "execution_count": null,
   "metadata": {},
   "outputs": [],
   "source": [
    "pos = n.buses.loc[n.buses.carrier=='AC', [\"x\", \"y\"]].apply(tuple, axis=1).to_dict()"
   ]
  },
  {
   "cell_type": "code",
   "execution_count": null,
   "metadata": {},
   "outputs": [],
   "source": [
    "nodes.hvplot(\n",
    "    geo=True,\n",
    "    color='whitesmoke',\n",
    "    line_color='grey',\n",
    "    line_width=0.5,\n",
    "    #transform=ccrs.EuroPP(),\n",
    ") * \\\n",
    "hvnx.draw(\n",
    "    G_links, \n",
    "    pos=pos,\n",
    "    width=1000,\n",
    "    height=800,\n",
    "    node_size=0,\n",
    "    edge_color='navy',\n",
    "    edge_width=hv.dim('p_nom_opt') / 3e3,\n",
    "    geo=True,\n",
    "    #crs=ccrs.EuroPP(),\n",
    "    inspection_policy='edges'\n",
    ") * \\\n",
    "hvnx.draw(\n",
    "    G_lines, \n",
    "    pos=pos,\n",
    "    width=1000,\n",
    "    height=800,\n",
    "    node_size=40,\n",
    "    node_color='gray',\n",
    "    edge_color='firebrick',\n",
    "    edge_width=hv.dim('s_nom_opt') / 3e3,\n",
    "    geo=True,\n",
    "    #crs=ccrs.EuroPP(),\n",
    "    inspection_policy='edges'\n",
    ").opts(\n",
    "    active_tools=['pan', 'wheel_zoom']\n",
    ")"
   ]
  },
  {
   "cell_type": "code",
   "execution_count": null,
   "metadata": {},
   "outputs": [],
   "source": [
    "nodes.hvplot(\n",
    "    geo=True,\n",
    "    color='whitesmoke',\n",
    "    line_color='grey',\n",
    "    line_width=0.5,\n",
    "    #transform=ccrs.EuroPP(),\n",
    ") * \\\n",
    "hvnx.draw(\n",
    "    G_H2, \n",
    "    pos=pos,\n",
    "    width=1000,\n",
    "    height=800,\n",
    "    edge_color='cyan',\n",
    "    edge_width=hv.dim('p_nom_opt') / 3e3,\n",
    "    node_color='magenta',\n",
    "    node_size=hv.dim(\"electrolysis\") / 2e2,\n",
    "    geo=True,\n",
    "    #crs=ccrs.EuroPP(),\n",
    "    inspection_policy='edges'\n",
    ").opts(\n",
    "    active_tools=['pan', 'wheel_zoom']\n",
    ")"
   ]
  },
  {
   "cell_type": "markdown",
   "metadata": {},
   "source": [
    "## System time series"
   ]
  },
  {
   "cell_type": "code",
   "execution_count": null,
   "metadata": {},
   "outputs": [],
   "source": [
    "# one resampled version, one hourly version"
   ]
  },
  {
   "cell_type": "code",
   "execution_count": null,
   "metadata": {},
   "outputs": [],
   "source": [
    "load = n.loads_t.p_set.groupby(n.loads.carrier, axis=1).sum()\n",
    "formatter = DatetimeTickFormatter(months='%b')"
   ]
  },
  {
   "cell_type": "code",
   "execution_count": null,
   "metadata": {},
   "outputs": [],
   "source": [
    "load.hvplot.area(width=1000, stacked=True, xformatter=formatter)"
   ]
  },
  {
   "cell_type": "code",
   "execution_count": null,
   "metadata": {},
   "outputs": [],
   "source": [
    "selection = [\"offwind-ac\", \"offwind-dc\", \"onwind\", \"ror\", \"solar\"]\n",
    "cfs = n.generators_t.p_max_pu.groupby(n.generators.carrier, axis=1).mean()[selection]"
   ]
  },
  {
   "cell_type": "code",
   "execution_count": null,
   "metadata": {},
   "outputs": [],
   "source": [
    "cfs.hvplot.line(width=1000, xformatter=formatter)"
   ]
  },
  {
   "cell_type": "code",
   "execution_count": null,
   "metadata": {},
   "outputs": [],
   "source": [
    "gen = n.generators_t.p.groupby(n.generators.carrier, axis=1).sum()"
   ]
  },
  {
   "cell_type": "code",
   "execution_count": null,
   "metadata": {},
   "outputs": [],
   "source": [
    "su = n.storage_units_t.p.groupby(n.storage_units.carrier, axis=1).sum()"
   ]
  },
  {
   "cell_type": "code",
   "execution_count": null,
   "metadata": {},
   "outputs": [],
   "source": [
    "df = pd.concat([gen, su], axis=1)"
   ]
  },
  {
   "cell_type": "code",
   "execution_count": null,
   "metadata": {},
   "outputs": [],
   "source": [
    "df.hvplot.area(width=1000, height=500, line_width=0, title=\"electricity generation\")"
   ]
  },
  {
   "cell_type": "markdown",
   "metadata": {},
   "source": [
    "# Cutouts"
   ]
  },
  {
   "cell_type": "code",
   "execution_count": null,
   "metadata": {},
   "outputs": [],
   "source": [
    "era5 = atlite.Cutout(path + \"pypsa-eur/cutouts/europe-2013-era5.nc\")\n",
    "sarah = atlite.Cutout(path + \"pypsa-eur/cutouts/europe-2013-sarah.nc\")"
   ]
  },
  {
   "cell_type": "code",
   "execution_count": null,
   "metadata": {},
   "outputs": [],
   "source": [
    "sarah.data.hvplot.quadmesh(\n",
    "    'x', 'y', 'influx_direct',\n",
    "    #projection=ccrs.EuroPP(),\n",
    "    frame_height=700,\n",
    "    cmap='Blues',\n",
    "    coastline=True,\n",
    "    project=True,\n",
    "    geo=True,\n",
    "    rasterize=True,\n",
    "    ylim=(34,72),\n",
    "    xlim=(-12,34),\n",
    "    clim=(0,1200),\n",
    "    #tiles='CartoLight'\n",
    "    #datashade=True,\n",
    ")"
   ]
  },
  {
   "cell_type": "code",
   "execution_count": null,
   "metadata": {},
   "outputs": [],
   "source": [
    "era5.data.hvplot.contourf(\n",
    "    'x', 'y', 'temperature',\n",
    "    #transform=ccrs.EuroPP(),\n",
    "    frame_height=700,\n",
    "    cmap='Reds',\n",
    "    #features=[\"borders\"],\n",
    "    coastline=True,\n",
    "    levels=15,\n",
    "    project=True,\n",
    "    geo=True,\n",
    "    ylim=(34,72),\n",
    "    xlim=(-12,34),\n",
    "    #alpha=0.8,\n",
    "    #tiles='CartoLight\n",
    ")"
   ]
  },
  {
   "cell_type": "markdown",
   "metadata": {},
   "source": [
    "## Outputs"
   ]
  },
  {
   "cell_type": "code",
   "execution_count": null,
   "metadata": {},
   "outputs": [],
   "source": [
    "import sys, os\n",
    "sys.path.insert(0, os.getcwd() + \"/\" + path + \"pypsa-eur-sec/scripts\")\n",
    "from plot_summary import rename_techs, preferred_order"
   ]
  },
  {
   "cell_type": "code",
   "execution_count": null,
   "metadata": {},
   "outputs": [],
   "source": [
    "cost_df = pd.read_csv(\n",
    "    path + \"pypsa-eur-sec/results/your-run-name-overnight-dev/csvs/costs.csv\",\n",
    "    index_col=list(range(3)),\n",
    "    header=list(range(4))\n",
    ")\n",
    "df = cost_df.groupby(cost_df.index.get_level_values(2)).sum()\n",
    "df = df / 1e9\n",
    "df = df.groupby(df.index.map(rename_techs)).sum()\n",
    "\n",
    "to_drop = df.index[df.max(axis=1) < 1.]\n",
    "                   \n",
    "new_index = preferred_order.intersection(df.index).append(df.index.difference(preferred_order))\n",
    "new_columns = df.sum().sort_values().index"
   ]
  },
  {
   "cell_type": "code",
   "execution_count": null,
   "metadata": {},
   "outputs": [],
   "source": [
    "df.columns = [', '.join(col).strip() for col in df.columns.values]"
   ]
  },
  {
   "cell_type": "code",
   "execution_count": null,
   "metadata": {},
   "outputs": [],
   "source": [
    "df.T.hvplot.bar(stacked=True, rot=65, width=900, height=1060, color='Category', cmap=colors)"
   ]
  },
  {
   "cell_type": "code",
   "execution_count": null,
   "metadata": {},
   "outputs": [],
   "source": [
    "energy_df = pd.read_csv(\n",
    "    path + \"pypsa-eur-sec/results/your-run-name-overnight-dev/csvs/energy.csv\",\n",
    "    index_col=list(range(2)),\n",
    "    header=list(range(4))\n",
    ")\n",
    "df = energy_df.groupby(energy_df.index.get_level_values(1)).sum()\n",
    "df = df / 1e6\n",
    "df = df.groupby(df.index.map(rename_techs)).sum()\n",
    "to_drop = df.index[df.abs().max(axis=1) < 50]\n",
    "df = df.drop(to_drop)\n",
    "new_index = preferred_order.intersection(df.index).append(df.index.difference(preferred_order))\n",
    "new_columns = df.columns.sort_values()"
   ]
  },
  {
   "cell_type": "code",
   "execution_count": null,
   "metadata": {},
   "outputs": [],
   "source": [
    "df.columns = [', '.join(col).strip() for col in df.columns.values]"
   ]
  },
  {
   "cell_type": "code",
   "execution_count": null,
   "metadata": {},
   "outputs": [],
   "source": [
    "df.T.hvplot.bar(stacked=True, rot=65, width=900, height=1060, color='Category', cmap=colors)"
   ]
  },
  {
   "cell_type": "markdown",
   "metadata": {},
   "source": [
    "## Sankey\n",
    "as https://holoviews.org/gallery/demos/bokeh/energy_sankey.html"
   ]
  },
  {
   "cell_type": "code",
   "execution_count": null,
   "metadata": {},
   "outputs": [],
   "source": [
    "edges = pd.read_csv('../data/connection.csv')\n",
    "sankey = hv.Sankey(edges, label='Energy Diagram')\n",
    "sankey.opts(label_position='left', edge_color='target', node_color='index', cmap=colors)"
   ]
  },
  {
   "cell_type": "markdown",
   "metadata": {},
   "source": [
    "## Industry Sector Ratios"
   ]
  },
  {
   "cell_type": "code",
   "execution_count": null,
   "metadata": {},
   "outputs": [],
   "source": [
    "iratios = pd.read_csv(path + \"pypsa-eur-sec/resources/industry_sector_ratios.csv\", index_col=0)"
   ]
  },
  {
   "cell_type": "code",
   "execution_count": null,
   "metadata": {},
   "outputs": [],
   "source": [
    "iratios.T.hvplot.barh(stacked=True, width=1000, height=400, title=\"Industry Sector Ratios [MWh/t material]\")"
   ]
  },
  {
   "cell_type": "markdown",
   "metadata": {},
   "source": [
    "## Hotmaps Raw"
   ]
  },
  {
   "cell_type": "code",
   "execution_count": null,
   "metadata": {},
   "outputs": [],
   "source": [
    "def prepare_hotmaps_database(regions):\n",
    "    \"\"\"\n",
    "    Load hotmaps database of industrial sites and map onto bus regions.\n",
    "    \"\"\"\n",
    "\n",
    "    df = pd.read_csv(path + \"pypsa-eur-sec/data/Industrial_Database.csv\", sep=\";\", index_col=0)\n",
    "\n",
    "    df[[\"srid\", \"coordinates\"]] = df.geom.str.split(';', expand=True)\n",
    "\n",
    "    # remove those sites without valid locations\n",
    "    df.drop(df.index[df.coordinates.isna()], inplace=True)\n",
    "\n",
    "    df['coordinates'] = gpd.GeoSeries.from_wkt(df['coordinates'])\n",
    "\n",
    "    gdf = gpd.GeoDataFrame(df, geometry='coordinates', crs=\"EPSG:4326\")\n",
    "\n",
    "    gdf = gpd.sjoin(gdf, regions, how=\"inner\", op='within')\n",
    "\n",
    "    gdf.rename(columns={\"index_right\": \"bus\"}, inplace=True)\n",
    "    gdf[\"country\"] = gdf.bus.str[:2]\n",
    "\n",
    "    return gdf"
   ]
  },
  {
   "cell_type": "code",
   "execution_count": null,
   "metadata": {},
   "outputs": [],
   "source": [
    "hotmaps = prepare_hotmaps_database(nodes)\n",
    "\n",
    "hotmaps[\"geometry\"] = hotmaps.coordinates\n",
    "hotmaps[\"Latitude\"] = hotmaps.geometry.y\n",
    "hotmaps[\"Longitude\"] = hotmaps.geometry.x\n",
    "\n",
    "plot = hotmaps.hvplot(\n",
    "    geo=True,\n",
    "    frame_height=800,\n",
    "    by='Subsector',\n",
    "    size=hotmaps[\"Emissions_ETS_2014\"] / 2e3,\n",
    "    alpha=0.4,\n",
    "    tiles='CartoLight',\n",
    "    hover_cols=['SiteName'],\n",
    ").opts(\n",
    "    active_tools=['pan', 'wheel_zoom']\n",
    ")"
   ]
  },
  {
   "cell_type": "code",
   "execution_count": null,
   "metadata": {},
   "outputs": [],
   "source": [
    "plot"
   ]
  },
  {
   "cell_type": "code",
   "execution_count": null,
   "metadata": {},
   "outputs": [],
   "source": [
    "hvplot.save(plot, 'hotmaps.html')"
   ]
  },
  {
   "cell_type": "code",
   "execution_count": null,
   "metadata": {},
   "outputs": [],
   "source": []
  }
 ],
 "metadata": {
  "kernelspec": {
   "display_name": "",
   "language": "python",
   "name": ""
  },
  "language_info": {
   "codemirror_mode": {
    "name": "ipython",
    "version": 3
   },
   "file_extension": ".py",
   "mimetype": "text/x-python",
   "name": "python",
   "nbconvert_exporter": "python",
   "pygments_lexer": "ipython3",
   "version": "3.8.8"
  }
 },
 "nbformat": 4,
 "nbformat_minor": 4
}