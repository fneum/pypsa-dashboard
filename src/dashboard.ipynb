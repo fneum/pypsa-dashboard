{
 "cells": [
  {
   "cell_type": "code",
   "execution_count": null,
   "id": "074f3340-d121-49aa-9c0a-1951c9fccb79",
   "metadata": {},
   "outputs": [],
   "source": [
    "import panel as pn\n",
    "import numpy as np\n",
    "import holoviews as hv\n",
    "\n",
    "pn.extension()\n",
    "\n",
    "board = pn.template.BootstrapTemplate(title='PyPSA-Eur-Sec Dashboard', header_background=\"#d95568\")\n",
    "\n",
    "pn.config.sizing_mode = 'stretch_width'\n",
    "\n",
    "intro = pn.pane.Markdown('''\n",
    "\n",
    "PyPSA-Eur-Sec is an open model dataset of the European energy system\n",
    "at the transmission network level that covers the full ENTSO-E area.\n",
    "\n",
    "[pypsa-eur-sec.readthedocs.io](https://pypsa-eur-sec.readthedocs.io/)\n",
    "''')\n",
    "\n",
    "xs = np.linspace(0, np.pi)\n",
    "freq = pn.widgets.FloatSlider(name=\"Frequency\", start=0, end=10, value=2)\n",
    "phase = pn.widgets.FloatSlider(name=\"Phase\", start=0, end=np.pi)\n",
    "\n",
    "@pn.depends(freq=freq, phase=phase)\n",
    "def sine(freq, phase):\n",
    "    return hv.Curve((xs, np.sin(xs*freq+phase))).opts(\n",
    "        responsive=True, min_height=400)\n",
    "\n",
    "row = pn.Row(\n",
    "    pn.Card(sine, title='Sine'),\n",
    "    pn.Card(sine, title='Sine')\n",
    ")\n",
    "\n",
    "board.sidebar.append(intro)\n",
    "board.sidebar.append(freq)\n",
    "board.sidebar.append(phase)\n",
    "\n",
    "board.main.append(\n",
    "    pn.Tabs(\n",
    "        (\"Model Inputs\", row),\n",
    "        (\"Results\", pn.Row()),\n",
    "        dynamic=True\n",
    "    )\n",
    ")\n",
    "\n",
    "board.show()"
   ]
  },
  {
   "cell_type": "code",
   "execution_count": null,
   "id": "e97e8fc4-d40f-4792-81af-1c32c7cf8501",
   "metadata": {},
   "outputs": [],
   "source": []
  }
 ],
 "metadata": {
  "kernelspec": {
   "display_name": "",
   "language": "python",
   "name": ""
  },
  "language_info": {
   "codemirror_mode": {
    "name": "ipython",
    "version": 3
   },
   "file_extension": ".py",
   "mimetype": "text/x-python",
   "name": "python",
   "nbconvert_exporter": "python",
   "pygments_lexer": "ipython3",
   "version": "3.8.8"
  }
 },
 "nbformat": 4,
 "nbformat_minor": 5
}