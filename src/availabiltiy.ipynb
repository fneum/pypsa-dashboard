{
 "cells": [
  {
   "cell_type": "code",
   "execution_count": null,
   "id": "73b1f3a7-3535-44b1-ac4d-c37fe577e1ef",
   "metadata": {},
   "outputs": [],
   "source": [
    "import xarray as xr\n",
    "import numpy as np\n",
    "import hvplot.xarray\n",
    "from rasterio.warp import transform"
   ]
  },
  {
   "cell_type": "code",
   "execution_count": null,
   "id": "2176dac9-1f96-4d29-bb96-a89f2091ac72",
   "metadata": {},
   "outputs": [],
   "source": [
    "%load_ext memory_profiler"
   ]
  },
  {
   "cell_type": "code",
   "execution_count": null,
   "id": "ab70be58-b3a6-4ab7-961d-be33e30c0a22",
   "metadata": {},
   "outputs": [],
   "source": [
    "def get_latlon(da):\n",
    "    \n",
    "    # Compute the lon/lat coordinates with rasterio.warp.transform\n",
    "    ny, nx = len(da['y']), len(da['x'])\n",
    "    x, y = np.meshgrid(da['x'], da['y'])\n",
    "\n",
    "    # Rasterio works with 1D arrays\n",
    "    lon, lat = transform(da.crs, {'init': 'EPSG:4326'},\n",
    "                         x.flatten(), y.flatten())\n",
    "    lon = np.asarray(lon).reshape((ny, nx))\n",
    "    lat = np.asarray(lat).reshape((ny, nx))\n",
    "    da.coords['lon'] = (('y', 'x'), lon)\n",
    "    da.coords['lat'] = (('y', 'x'), lat)\n",
    "    da = da.drop_vars([\"x\", \"y\"])\n",
    "    return da"
   ]
  },
  {
   "cell_type": "code",
   "execution_count": null,
   "id": "f2b0e900-c29d-4bbd-bb96-f932b1113aa1",
   "metadata": {},
   "outputs": [],
   "source": [
    "fn = \"../data/onwind-av-595.tif\""
   ]
  },
  {
   "cell_type": "code",
   "execution_count": null,
   "id": "db8c53a4-731f-48e0-99fc-8a99b21db257",
   "metadata": {},
   "outputs": [],
   "source": [
    "def convert_to_dataset(fn):\n",
    "    da = xr.open_rasterio(fn)\n",
    "    da = get_latlon(da).mean(dim='band')\n",
    "    ds = da.where((da.values < 255) & (da.values > 0)).to_dataset(name='availability')\n",
    "    #ds.to_netcdf(fn.replace(\".tif\", \".nc\")) # much memory\n",
    "    return ds\n"
   ]
  },
  {
   "cell_type": "code",
   "execution_count": null,
   "id": "465e0c39-8b4a-4415-b893-bf1f18745566",
   "metadata": {},
   "outputs": [],
   "source": [
    "%memit\n",
    "ds = convert_to_dataset(fn)"
   ]
  },
  {
   "cell_type": "code",
   "execution_count": null,
   "id": "12930bef-b441-46ca-999f-d0a8f3f7b9c7",
   "metadata": {},
   "outputs": [],
   "source": [
    "%memit\n",
    "ds.hvplot.contourf(\n",
    "    'lon',\n",
    "    'lat',\n",
    "    'availability',\n",
    "    geo=True,\n",
    "    tiles=\"CartoLight\",\n",
    "    cmap='Greens',\n",
    "    alpha=0.5,\n",
    "    frame_height=800,\n",
    "    colorbar=False,\n",
    "    legend=False,\n",
    "    hover=False,\n",
    "    title=\"Available Land\"\n",
    ").opts(\n",
    "    active_tools=['pan', 'wheel_zoom']\n",
    ")"
   ]
  },
  {
   "cell_type": "code",
   "execution_count": null,
   "id": "1dc75d2f-2be1-4505-b581-7a1d02de1682",
   "metadata": {},
   "outputs": [],
   "source": []
  }
 ],
 "metadata": {
  "kernelspec": {
   "display_name": "",
   "language": "python",
   "name": ""
  },
  "language_info": {
   "codemirror_mode": {
    "name": "ipython",
    "version": 3
   },
   "file_extension": ".py",
   "mimetype": "text/x-python",
   "name": "python",
   "nbconvert_exporter": "python",
   "pygments_lexer": "ipython3",
   "version": "3.8.8"
  }
 },
 "nbformat": 4,
 "nbformat_minor": 5
}