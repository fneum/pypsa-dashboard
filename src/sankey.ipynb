{
 "cells": [
  {
   "cell_type": "code",
   "execution_count": null,
   "id": "c0a851dd-3f41-4525-89d5-9c88fabd89bd",
   "metadata": {},
   "outputs": [],
   "source": [
    "import pypsa\n",
    "import pandas as pd"
   ]
  },
  {
   "cell_type": "code",
   "execution_count": null,
   "id": "bafb849f-0c86-424d-9d9e-e2c7e123ab2b",
   "metadata": {},
   "outputs": [],
   "source": [
    "path = \"../../pr/\""
   ]
  },
  {
   "cell_type": "code",
   "execution_count": null,
   "id": "9d383435-5634-4f6d-9387-994eacab6fcf",
   "metadata": {},
   "outputs": [],
   "source": [
    "n = pypsa.Network(\n",
    "    path + \"pypsa-eur-sec/results/your-run-name-overnight-dev/postnetworks/elec_s_60_lv1.25__Co2L0p0-365H-T-H-B-I-solar+p3-dist1_2030.nc\"\n",
    ")"
   ]
  },
  {
   "cell_type": "code",
   "execution_count": null,
   "id": "9b9c11b6-28d1-4bb7-834c-13874ccb40f4",
   "metadata": {},
   "outputs": [],
   "source": [
    "(n.snapshot_weightings @ n.generators_t.p).groupby([n.generators.carrier, n.generators.bus.map(n.buses.carrier)]).sum()"
   ]
  },
  {
   "cell_type": "code",
   "execution_count": null,
   "id": "4e36c2da-a2ea-4a06-8739-9c4b1c5de640",
   "metadata": {},
   "outputs": [],
   "source": [
    "unilinks = n.links.loc[~((n.links.p_min_pu==-1.) & (n.links.p_max_pu==1.))]"
   ]
  },
  {
   "cell_type": "code",
   "execution_count": null,
   "id": "5ec938bd-57b5-46ed-99ea-efc2237839e6",
   "metadata": {},
   "outputs": [],
   "source": [
    "unilinks.carrier.unique()"
   ]
  },
  {
   "cell_type": "code",
   "execution_count": null,
   "id": "f590b441-e979-417f-b389-e327c51615ef",
   "metadata": {},
   "outputs": [],
   "source": []
  }
 ],
 "metadata": {
  "kernelspec": {
   "display_name": "",
   "language": "python",
   "name": ""
  },
  "language_info": {
   "codemirror_mode": {
    "name": "ipython",
    "version": 3
   },
   "file_extension": ".py",
   "mimetype": "text/x-python",
   "name": "python",
   "nbconvert_exporter": "python",
   "pygments_lexer": "ipython3",
   "version": "3.8.8"
  }
 },
 "nbformat": 4,
 "nbformat_minor": 5
}