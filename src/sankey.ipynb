{
 "cells": [
  {
   "cell_type": "code",
   "execution_count": null,
   "id": "a813a8a4-ee0f-4daf-abcb-d0315b1309fd",
   "metadata": {},
   "outputs": [],
   "source": [
    "import pypsa\n",
    "import pandas as pd\n",
    "from pypsa.descriptors import get_switchable_as_dense\n",
    "import plotly.graph_objects as go\n",
    "import numpy as np\n",
    "import yaml\n",
    "from matplotlib.colors import to_rgba\n",
    "pd.set_option('display.max_rows', 150)"
   ]
  },
  {
   "cell_type": "code",
   "execution_count": null,
   "id": "5f98d87b-a1af-41bb-abcf-e91f02f3f459",
   "metadata": {},
   "outputs": [],
   "source": [
    "path = \"../../pr/\""
   ]
  },
  {
   "cell_type": "code",
   "execution_count": null,
   "id": "e8b246eb-25a5-4e11-b3e2-c663d566d16a",
   "metadata": {},
   "outputs": [],
   "source": [
    "with open(path + \"pypsa-eur-sec/config.yaml\") as file:\n",
    "    config = yaml.safe_load(file)\n",
    "\n",
    "colors = config[\"plotting\"][\"tech_colors\"]\n",
    "\n",
    "colors[\"electricity grid\"] = \"teal\"\n",
    "colors[\"ground-sourced ambient\"] = \"orchid\"\n",
    "colors[\"air-sourced ambient\"] = \"thistle\""
   ]
  },
  {
   "cell_type": "code",
   "execution_count": null,
   "id": "82d4255a-00f2-4226-8bd0-ce341395602e",
   "metadata": {},
   "outputs": [],
   "source": [
    "n = pypsa.Network(\n",
    "    path + \"pypsa-eur-sec/results/your-run-name-overnight-dev/postnetworks/elec_s_60_lv1.25__Co2L0p0-365H-T-H-B-I-solar+p3-dist1_2030.nc\"\n",
    ")"
   ]
  },
  {
   "cell_type": "code",
   "execution_count": null,
   "id": "6ca681e7-b23e-4546-9853-ab5354cd9f03",
   "metadata": {},
   "outputs": [],
   "source": [
    "columns = [\"label\", \"source\", \"target\", \"value\"]"
   ]
  },
  {
   "cell_type": "code",
   "execution_count": null,
   "id": "386ae142-95fb-4e3a-a524-ed0335a2145d",
   "metadata": {
    "tags": []
   },
   "outputs": [],
   "source": [
    "gen = (n.snapshot_weightings @ n.generators_t.p).groupby([\n",
    "    n.generators.carrier, n.generators.carrier, n.generators.bus.map(n.buses.carrier)\n",
    "]).sum().div(1e6) # TWh\n",
    "\n",
    "gen.index.set_names(columns[:-1], inplace=True)\n",
    "gen = gen.reset_index(name='value')\n",
    "gen = gen.loc[gen.value>0.1]"
   ]
  },
  {
   "cell_type": "code",
   "execution_count": null,
   "id": "68dec579-9201-49af-bb67-78de52ed5dfa",
   "metadata": {
    "tags": []
   },
   "outputs": [],
   "source": [
    "gen[\"source\"] = gen[\"source\"].replace({\n",
    "    \"gas\": \"fossil gas\",\n",
    "    \"oil\": \"fossil oil\"\n",
    "})"
   ]
  },
  {
   "cell_type": "code",
   "execution_count": null,
   "id": "9c9778aa-4553-4b25-b54a-b860f17f9cf7",
   "metadata": {
    "tags": []
   },
   "outputs": [],
   "source": [
    "sto = (n.snapshot_weightings @ n.stores_t.p).groupby([\n",
    "    n.stores.carrier, n.stores.carrier, n.stores.bus.map(n.buses.carrier)\n",
    "]).sum().div(1e6)\n",
    "sto.index.set_names(columns[:-1], inplace=True)\n",
    "sto = sto.reset_index(name='value')\n",
    "sto = sto.loc[sto.value>.1]"
   ]
  },
  {
   "cell_type": "code",
   "execution_count": null,
   "id": "291df2b3-6047-481c-a662-0619e0688183",
   "metadata": {
    "tags": []
   },
   "outputs": [],
   "source": [
    "su = (n.snapshot_weightings @ n.storage_units_t.p).groupby([\n",
    "    n.storage_units.carrier, n.storage_units.carrier, n.storage_units.bus.map(n.buses.carrier)\n",
    "]).sum().div(1e6)\n",
    "su.index.set_names(columns[:-1], inplace=True)\n",
    "su = su.reset_index(name='value')\n",
    "su = su.loc[su.value>.1]"
   ]
  },
  {
   "cell_type": "code",
   "execution_count": null,
   "id": "81b75732-57a6-4cb3-8fbb-89bef7f4d7be",
   "metadata": {},
   "outputs": [],
   "source": [
    "load = (n.snapshot_weightings @ get_switchable_as_dense(n, \"Load\", \"p_set\")).groupby([\n",
    "    n.loads.carrier, n.loads.carrier, n.loads.bus.map(n.buses.carrier)\n",
    "]).sum().div(1e6).swaplevel() # TWh\n",
    "load.index.set_names(columns[:-1], inplace=True)\n",
    "load = load.reset_index(name='value')"
   ]
  },
  {
   "cell_type": "code",
   "execution_count": null,
   "id": "53b869dd-ce7a-44fc-bef2-f4f00a7f7ec0",
   "metadata": {},
   "outputs": [],
   "source": [
    "load = load.loc[~load.label.str.contains(\"emissions\")]\n",
    "load.target += \" demand\""
   ]
  },
  {
   "cell_type": "code",
   "execution_count": null,
   "id": "4321f89c-7134-4bf3-b5e3-de0ddc6285b7",
   "metadata": {},
   "outputs": [],
   "source": [
    "for i in range(5):\n",
    "    n.links[f\"total_e{i}\"] = (n.snapshot_weightings @ n.links_t[f\"p{i}\"]).div(1e6) # TWh\n",
    "    n.links[f\"carrier_bus{i}\"] = n.links[f\"bus{i}\"].map(n.buses.carrier)"
   ]
  },
  {
   "cell_type": "code",
   "execution_count": null,
   "id": "a18986e8-4d4a-4da1-8169-0ea212992197",
   "metadata": {},
   "outputs": [],
   "source": [
    "def calculate_losses(x):\n",
    "    energy_ports = x.loc[\n",
    "        x.index.str.contains(\"carrier_bus\") &\n",
    "        ~x.str.contains(\"co2\", na=False)\n",
    "    ].index.str.replace(\"carrier_bus\", \"total_e\")\n",
    "    return -x.loc[energy_ports].sum()\n",
    "\n",
    "n.links[\"total_e5\"] = n.links.apply(calculate_losses, axis=1)\n",
    "n.links[\"carrier_bus5\"] = \"losses\""
   ]
  },
  {
   "cell_type": "code",
   "execution_count": null,
   "id": "ecd0d6f3-3dcc-435b-ab69-647323856c9e",
   "metadata": {},
   "outputs": [],
   "source": [
    "df = pd.concat([\n",
    "    n.links.groupby([\"carrier\", \"carrier_bus0\", \"carrier_bus\" + str(i)]).sum()[\"total_e\" + str(i)] for i in range(1,6)\n",
    "]).reset_index()\n",
    "df.columns = columns"
   ]
  },
  {
   "cell_type": "code",
   "execution_count": null,
   "id": "48e26814-b2ba-42dc-9aec-ba8c254a5247",
   "metadata": {},
   "outputs": [],
   "source": [
    "# fix heat pump energy balance\n",
    "\n",
    "hp = n.links.loc[n.links.carrier.str.contains(\"heat pump\")]\n",
    "\n",
    "hp_t_elec = n.links_t.p0.filter(like=\"heat pump\")\n",
    "\n",
    "hp_elec = (-n.snapshot_weightings @ hp_t_elec).groupby([hp[\"carrier\"], hp[\"carrier_bus0\"], hp[\"carrier_bus1\"]]).sum().div(1e6).reset_index()\n",
    "hp_elec.columns = columns\n",
    "\n",
    "df = df.loc[~(df.label.str.contains(\"heat pump\") & (df.target == 'losses'))]\n",
    "\n",
    "df.loc[df.label.str.contains(\"heat pump\"), \"value\"] -= hp_elec[\"value\"].values\n",
    "\n",
    "df.loc[df.label.str.contains(\"air heat pump\"), \"source\"] = \"air-sourced ambient\"\n",
    "df.loc[df.label.str.contains(\"ground heat pump\"), \"source\"] = \"ground-sourced ambient\"\n",
    "\n",
    "df = pd.concat([df, hp_elec])"
   ]
  },
  {
   "cell_type": "code",
   "execution_count": null,
   "id": "78a51a1e-eada-4ce3-b515-a960e4c6bd38",
   "metadata": {},
   "outputs": [],
   "source": [
    "df = df.set_index([\"label\", \"source\", \"target\"]).squeeze()"
   ]
  },
  {
   "cell_type": "code",
   "execution_count": null,
   "id": "bf882f43-ba4d-4306-b9eb-209e2344e00d",
   "metadata": {},
   "outputs": [],
   "source": [
    "df = pd.concat([\n",
    "    df.loc[df<0].mul(-1),\n",
    "    df.loc[df>0].swaplevel(1, 2),\n",
    "]).reset_index()\n",
    "\n",
    "df.columns = columns"
   ]
  },
  {
   "cell_type": "code",
   "execution_count": null,
   "id": "c8d6d312-802d-4e1a-8fa8-8af99d8d99fd",
   "metadata": {},
   "outputs": [],
   "source": [
    "# make DAC demand\n",
    "df.loc[df.label=='DAC', \"target\"] = \"DAC\""
   ]
  },
  {
   "cell_type": "code",
   "execution_count": null,
   "id": "bedabe97-0011-4acd-9439-9c40b2578a1d",
   "metadata": {},
   "outputs": [],
   "source": [
    "connections = pd.concat([\n",
    "    df,\n",
    "    gen,\n",
    "    su,\n",
    "    sto,\n",
    "    load,\n",
    "]).sort_index().reset_index(drop=True)"
   ]
  },
  {
   "cell_type": "code",
   "execution_count": null,
   "id": "ab5bdfd1-bcc8-4665-81da-070df4ef3f94",
   "metadata": {},
   "outputs": [],
   "source": [
    "# aggregation\n",
    "\n",
    "src_contains = connections.source.str.contains\n",
    "trg_contains = connections.target.str.contains\n",
    "\n",
    "connections.loc[src_contains(\"low voltage\"), \"source\"] = \"AC\"\n",
    "connections.loc[trg_contains(\"low voltage\"), \"target\"] = \"AC\"\n",
    "connections.loc[src_contains(\"water tank\"), \"source\"] = \"water tank\"\n",
    "connections.loc[trg_contains(\"water tank\"), \"target\"] = \"water tank\"\n",
    "connections.loc[src_contains(\"solar thermal\"), \"source\"] = \"solar thermal\"\n",
    "connections.loc[src_contains(\"battery\"), \"source\"] = \"battery\"\n",
    "connections.loc[trg_contains(\"battery\"), \"target\"] = \"battery\"\n",
    "connections.loc[src_contains(\"Li ion\"), \"source\"] = \"battery\"\n",
    "connections.loc[trg_contains(\"Li ion\"), \"target\"] = \"battery\"\n",
    "\n",
    "connections.loc[src_contains(\"heat\") & ~src_contains(\"demand\"), \"source\"] = \"heat\"\n",
    "connections.loc[trg_contains(\"heat\") & ~trg_contains(\"demand\"), \"target\"] = \"heat\""
   ]
  },
  {
   "cell_type": "code",
   "execution_count": null,
   "id": "aeed8a23-f45f-4627-a324-2ef3c3ba253c",
   "metadata": {},
   "outputs": [],
   "source": [
    "connections = connections.loc[\n",
    "    ~(connections.source == connections.target) \n",
    "    & ~connections.source.str.contains(\"co2\")\n",
    "    & ~connections.target.str.contains(\"co2\")\n",
    "    & ~connections.source.str.contains(\"emissions\")\n",
    "    & ~connections.source.isin(['gas for industry', \"solid biomass for industry\"])\n",
    "    & (connections.value >= 0.5)\n",
    "]"
   ]
  },
  {
   "cell_type": "code",
   "execution_count": null,
   "id": "02884f54-197e-478e-aac6-32877ef806bc",
   "metadata": {},
   "outputs": [],
   "source": [
    "where = connections.label=='urban central gas boiler'\n",
    "connections.loc[where] = connections.loc[where].replace(\"losses\", \"fossil gas\")"
   ]
  },
  {
   "cell_type": "code",
   "execution_count": null,
   "id": "98d6e9fd-e796-4844-802b-87ca0deae74f",
   "metadata": {},
   "outputs": [],
   "source": [
    "connections.replace(\"AC\", \"electricity grid\", inplace=True)"
   ]
  },
  {
   "cell_type": "code",
   "execution_count": null,
   "id": "cbc458ec-e312-4a5d-828c-5ecb48371a16",
   "metadata": {},
   "outputs": [],
   "source": [
    "labels = np.unique(connections[[\"source\", \"target\"]])"
   ]
  },
  {
   "cell_type": "code",
   "execution_count": null,
   "id": "fedea992-d294-4ccf-8ae8-26a030364e82",
   "metadata": {},
   "outputs": [],
   "source": [
    "nodes = pd.Series({v: i for i, v in enumerate(labels)})"
   ]
  },
  {
   "cell_type": "code",
   "execution_count": null,
   "id": "8c5a62a8-615a-4e99-9fcb-94b9c75314b9",
   "metadata": {},
   "outputs": [],
   "source": [
    "node_colors = pd.Series(nodes.index.map(colors).fillna(\"grey\"), index=nodes.index)"
   ]
  },
  {
   "cell_type": "code",
   "execution_count": null,
   "id": "f3c83a27-57c3-4aeb-b8dc-f1d1e74c0b80",
   "metadata": {},
   "outputs": [],
   "source": [
    "link_colors = [\"rgba{}\".format(to_rgba(node_colors[src], alpha=0.5)) for src in connections.source]"
   ]
  },
  {
   "cell_type": "code",
   "execution_count": null,
   "id": "8f4b647a-9f8b-4ee1-87b5-8554e18dc157",
   "metadata": {},
   "outputs": [],
   "source": [
    "fig = go.Figure(go.Sankey(\n",
    "    arrangement=\"snap\", # [snap, nodepad, perpendicular, fixed]\n",
    "    valuesuffix = \"TWh\",\n",
    "    valueformat = \".1f\",\n",
    "    node = dict(\n",
    "        pad=15,\n",
    "        thickness=10,\n",
    "        label=nodes.index,\n",
    "        color=node_colors\n",
    "    ),\n",
    "    link = dict(\n",
    "        source=connections.source.map(nodes),\n",
    "        target=connections.target.map(nodes),\n",
    "        value=connections.value,\n",
    "        label=connections.label,\n",
    "        color=link_colors,\n",
    "    )\n",
    "))\n",
    "\n",
    "fig.update_layout(\n",
    "    title=\"Sankey Diagram: PyPSA-Eur-Sec\",\n",
    "    font_size=15\n",
    ")\n",
    "\n",
    "fig.write_html(\"Co2L0p0.html\")"
   ]
  },
  {
   "cell_type": "code",
   "execution_count": null,
   "id": "d46b699e-9cd1-49a0-bde8-62ec44775d65",
   "metadata": {},
   "outputs": [],
   "source": []
  },
  {
   "cell_type": "code",
   "execution_count": null,
   "id": "d71666a0-cb19-4e7f-b2b3-c7738b061aa4",
   "metadata": {},
   "outputs": [],
   "source": []
  },
  {
   "cell_type": "code",
   "execution_count": null,
   "id": "9fb71d86-50c1-45e4-bcb9-a9d361283956",
   "metadata": {},
   "outputs": [],
   "source": []
  },
  {
   "cell_type": "code",
   "execution_count": null,
   "id": "9c463429-fed7-4f76-8ebb-c637e295f389",
   "metadata": {},
   "outputs": [],
   "source": []
  },
  {
   "cell_type": "code",
   "execution_count": null,
   "id": "41c5de09-0405-436b-bbb3-9414c87147f8",
   "metadata": {},
   "outputs": [],
   "source": []
  },
  {
   "cell_type": "code",
   "execution_count": null,
   "id": "def746c4-2a0f-416b-81eb-46e455096f94",
   "metadata": {},
   "outputs": [],
   "source": []
  },
  {
   "cell_type": "code",
   "execution_count": null,
   "id": "41c6859d-3393-40aa-a235-ebc05f635de4",
   "metadata": {},
   "outputs": [],
   "source": []
  },
  {
   "cell_type": "code",
   "execution_count": null,
   "id": "e359d938-8c1a-41af-85f2-af3507fc03f7",
   "metadata": {},
   "outputs": [],
   "source": []
  }
 ],
 "metadata": {
  "kernelspec": {
   "display_name": "",
   "language": "python",
   "name": ""
  },
  "language_info": {
   "codemirror_mode": {
    "name": "ipython",
    "version": 3
   },
   "file_extension": ".py",
   "mimetype": "text/x-python",
   "name": "python",
   "nbconvert_exporter": "python",
   "pygments_lexer": "ipython3",
   "version": "3.8.8"
  }
 },
 "nbformat": 4,
 "nbformat_minor": 5
}